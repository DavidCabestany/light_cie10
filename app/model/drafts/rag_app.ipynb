{
 "cells": [
  {
   "cell_type": "code",
   "execution_count": 1,
   "metadata": {},
   "outputs": [],
   "source": [
    "from PyPDF2 import PdfReader\n",
    "from langchain.text_splitter import RecursiveCharacterTextSplitter\n",
    "import os\n",
    "from langchain_community.vectorstores import FAISS\n",
    "from langchain.chains.question_answering import load_qa_chain\n",
    "from langchain.prompts import PromptTemplate\n",
    "from langchain_openai import OpenAI\n",
    "from langchain_openai import OpenAIEmbeddings"
   ]
  },
  {
   "cell_type": "code",
   "execution_count": 2,
   "metadata": {},
   "outputs": [],
   "source": [
    "from dotenv import load_dotenv, find_dotenv\n",
    "import os\n",
    "import openai\n",
    "# Load environment variables from a .env file\n",
    "load_dotenv(find_dotenv())\n",
    "\n",
    "# Set the OpenAI API key from the environment variable\n",
    "openai.api_key = os.getenv('OPENAI_API_KEY')\n",
    "\n",
    "prompt_template = \"\"\"\n",
    "    Answer the question as detailed as possible from the provided context, make sure to provide all the details, if the answer is not in\n",
    "    provided context just say, \"answer is not available in the context\", don't provide the wrong answer\\n\\n. Also if asked about a code that is not on the context\n",
    "    provided just say, \"answer is not available in the context\".\n",
    "    Context:\\n {context}?\\n\n",
    "    Question: \\n{question}\\n\n",
    "\n",
    "    Answer:\n",
    "    \"\"\"\n",
    "\n",
    "model = OpenAI(openai_api_key=openai.api_key, model_name=\"gpt-3.5-turbo-instruct\")\n",
    "\n",
    "prompt = PromptTemplate(\n",
    "    template=prompt_template, input_variables=[\"context\", \"question\"]\n",
    ")\n",
    "\n",
    "chain = load_qa_chain(model, chain_type=\"stuff\", prompt=prompt)"
   ]
  },
  {
   "cell_type": "code",
   "execution_count": 5,
   "metadata": {},
   "outputs": [
    {
     "name": "stdout",
     "output_type": "stream",
     "text": [
      "{'output_text': 'The code for acondroplasia (osteoesclerosis congénita) is Q77.4.'}\n"
     ]
    }
   ],
   "source": [
    "embeddings = OpenAIEmbeddings(openai_api_key=openai.api_key)\n",
    "\n",
    "user_question = \"cual es el codigo de la acondroplastia\"\n",
    "\n",
    "db = FAISS.load_local(folder_path=\"/teamspace/studios/this_studio/Curso_IA_Gen/Formularios\",embeddings=embeddings,index_name=\"myFaissIndex\",allow_dangerous_deserialization=True)\n",
    "docs = db.similarity_search(user_question)\n",
    "\n",
    "response = chain(\n",
    "    {\"input_documents\": docs, \"question\": user_question}, return_only_outputs=True\n",
    ")\n",
    "\n",
    "print(response)"
   ]
  },
  {
   "cell_type": "code",
   "execution_count": 4,
   "metadata": {},
   "outputs": [
    {
     "name": "stdout",
     "output_type": "stream",
     "text": [
      "Running on local URL:  http://127.0.0.1:7879\n",
      "Running on public URL: https://6cb2438074852273e5.gradio.live\n",
      "\n",
      "This share link expires in 72 hours. For free permanent hosting and GPU upgrades, run `gradio deploy` from Terminal to deploy to Spaces (https://huggingface.co/spaces)\n"
     ]
    },
    {
     "data": {
      "text/html": [
       "<div><iframe src=\"https://6cb2438074852273e5.gradio.live\" width=\"100%\" height=\"500\" allow=\"autoplay; camera; microphone; clipboard-read; clipboard-write;\" frameborder=\"0\" allowfullscreen></iframe></div>"
      ],
      "text/plain": [
       "<IPython.core.display.HTML object>"
      ]
     },
     "metadata": {},
     "output_type": "display_data"
    }
   ],
   "source": [
    "import gradio as gr\n",
    "\n",
    "# Función para procesar la pregunta del usuario y generar la respuesta\n",
    "def responder_cie(user_question):\n",
    "    embeddings = OpenAIEmbeddings(openai_api_key=openai.api_key)\n",
    "    db = FAISS.load_local(folder_path=\"/teamspace/studios/this_studio/Curso_IA_Gen/Formularios\",embeddings=embeddings,index_name=\"myFaissIndex\",allow_dangerous_deserialization=True)\n",
    "    docs = db.similarity_search(user_question)\n",
    "    response = chain({\"input_documents\": docs, \"question\": user_question})\n",
    "        \n",
    "    return response['output_text']\n",
    "\n",
    "\n",
    "# Crear la interfaz de Gradio\n",
    "interface = gr.Interface(\n",
    "   fn=responder_cie,\n",
    "   inputs=\"text\",\n",
    "   outputs=\"text\",\n",
    "   title=\"Interfaz de Búsqueda\",\n",
    "   description=\"Introduce una pregunta para obtener la respuesta basada en los documentos proporcionados.\"\n",
    ")\n",
    "# Iniciar la interfaz\n",
    "if __name__ == \"__main__\":\n",
    "   interface.launch(share=True)"
   ]
  },
  {
   "cell_type": "code",
   "execution_count": null,
   "metadata": {},
   "outputs": [],
   "source": []
  },
  {
   "cell_type": "code",
   "execution_count": null,
   "metadata": {},
   "outputs": [],
   "source": []
  }
 ],
 "metadata": {
  "kernelspec": {
   "display_name": "cloudspace",
   "language": "python",
   "name": "python3"
  },
  "language_info": {
   "codemirror_mode": {
    "name": "ipython",
    "version": 3
   },
   "file_extension": ".py",
   "mimetype": "text/x-python",
   "name": "python",
   "nbconvert_exporter": "python",
   "pygments_lexer": "ipython3",
   "version": "3.10.10"
  }
 },
 "nbformat": 4,
 "nbformat_minor": 2
}
