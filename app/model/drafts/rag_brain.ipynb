{
 "cells": [
  {
   "cell_type": "code",
   "execution_count": 1,
   "metadata": {},
   "outputs": [],
   "source": [
    "import databutton as db\n",
    "\n",
    "import re\n",
    "import time\n",
    "from io import BytesIO\n",
    "from typing import Any, Dict, List\n",
    "import pickle\n",
    "\n",
    "from langchain.docstore.document import Document\n",
    "from langchain.document_loaders import PyPDFLoader\n",
    "from langchain_openai import OpenAIEmbeddings\n",
    "from langchain.text_splitter import RecursiveCharacterTextSplitter\n",
    "from langchain.vectorstores.faiss import FAISS\n",
    "from langchain_openai import OpenAI\n",
    "from pypdf import PdfReader\n",
    "from typing import Tuple\n",
    "import faiss"
   ]
  },
  {
   "cell_type": "markdown",
   "metadata": {},
   "source": [
    "1. Upload the PDF"
   ]
  },
  {
   "cell_type": "code",
   "execution_count": 2,
   "metadata": {},
   "outputs": [],
   "source": [
    "def parse_pdf(file: BytesIO, filename: str) -> Tuple[List[str], str]:\n",
    "    # Initialize the PDF reader for the provided file.\n",
    "    pdf = PdfReader(file)\n",
    "    output = []\n",
    "    \n",
    "    # Loop through all the pages in the PDF.\n",
    "    for page in pdf.pages:\n",
    "        # Extract the text from the page.\n",
    "        text = page.extract_text()\n",
    "        \n",
    "        # Replace word splits that are split by hyphens at the end of a line.\n",
    "        text = re.sub(r\"(\\w+)-\\n(\\w+)\", r\"\\1\\2\", text)\n",
    "        \n",
    "        # Replace single newlines with spaces, but not those flanked by spaces.\n",
    "        text = re.sub(r\"(?<!\\n\\s)\\n(?!\\s\\n)\", \" \", text.strip())\n",
    "        \n",
    "        # Consolidate multiple newlines to two newlines.\n",
    "        text = re.sub(r\"\\n\\s*\\n\", \"\\n\\n\", text)\n",
    "        \n",
    "        # Append the cleaned text to the output list.\n",
    "        output.append(text)\n",
    "    \n",
    "    # Return the list of cleaned texts and the filename.\n",
    "    return output, filename\n",
    "\n",
    "def text_to_docs(text: List[str], filename: str) -> List[Document]:\n",
    "    # Ensure the input text is a list. If it's a string, convert it to a list.\n",
    "    if isinstance(text, str):\n",
    "        text = [text]\n",
    "    \n",
    "    # Convert each text (from a page) to a Document object.\n",
    "    page_docs = [Document(page_content=page) for page in text]\n",
    "    \n",
    "    # Assign a page number to the metadata of each document.\n",
    "    for i, doc in enumerate(page_docs):\n",
    "        doc.metadata[\"page\"] = i + 1\n",
    "\n",
    "    doc_chunks = []\n",
    "    \n",
    "    # Split each page's text into smaller chunks and store them as separate documents.\n",
    "    for doc in page_docs:\n",
    "        # Initialize the text splitter with specific chunk sizes and delimiters.\n",
    "        text_splitter = RecursiveCharacterTextSplitter(\n",
    "            chunk_size=4000,\n",
    "            separators=[\"\\n\\n\", \"\\n\", \".\", \"!\", \"?\", \",\", \" \", \"\"],\n",
    "            chunk_overlap=0,\n",
    "        )\n",
    "        \n",
    "        # Split the document's text into chunks.\n",
    "        chunks = text_splitter.split_text(doc.page_content)\n",
    "        \n",
    "        # Convert each chunk into a new document, storing its chunk number, page number, and source file name in its metadata.\n",
    "        for i, chunk in enumerate(chunks):\n",
    "            doc = Document(\n",
    "                page_content=chunk, metadata={\"page\": doc.metadata[\"page\"], \"chunk\": i}\n",
    "            )\n",
    "            doc.metadata[\"source\"] = f\"{doc.metadata['page']}-{doc.metadata['chunk']}\"\n",
    "            doc.metadata[\"filename\"] = filename\n",
    "            doc_chunks.append(doc)\n",
    "    \n",
    "    # Return the list of chunked documents.\n",
    "    return doc_chunks"
   ]
  },
  {
   "cell_type": "markdown",
   "metadata": {},
   "source": [
    "2. OpenAI Info"
   ]
  },
  {
   "cell_type": "code",
   "execution_count": 3,
   "metadata": {},
   "outputs": [],
   "source": [
    "import os\n",
    "import openai\n",
    "from dotenv import load_dotenv, find_dotenv"
   ]
  },
  {
   "cell_type": "code",
   "execution_count": 4,
   "metadata": {},
   "outputs": [],
   "source": [
    "load_dotenv(find_dotenv())\n",
    "\n",
    "openai_api_key = os.getenv('OPENAI_API_KEY')"
   ]
  },
  {
   "cell_type": "markdown",
   "metadata": {},
   "source": [
    "3. Indexing"
   ]
  },
  {
   "cell_type": "code",
   "execution_count": 5,
   "metadata": {},
   "outputs": [],
   "source": [
    "def docs_to_index(docs, openai_api_key):\n",
    "    index = FAISS.from_documents(docs, OpenAIEmbeddings(openai_api_key=openai_api_key))\n",
    "    return index"
   ]
  },
  {
   "cell_type": "markdown",
   "metadata": {},
   "source": [
    "4. Implementation"
   ]
  },
  {
   "cell_type": "code",
   "execution_count": 6,
   "metadata": {},
   "outputs": [],
   "source": [
    "pdf = '/teamspace/studios/this_studio/app/Formularios/2024_CIE10ES_Tomo_I_Diagnosticos_recortado (1).pdf'"
   ]
  },
  {
   "cell_type": "code",
   "execution_count": 7,
   "metadata": {},
   "outputs": [
    {
     "name": "stdout",
     "output_type": "stream",
     "text": [
      "\n",
      "Created Documents from '/teamspace/studios/this_studio/app/Formularios/2024_CIE10ES_Tomo_I_Diagnosticos_recortado (1).pdf':\n",
      "\n",
      "Document 1:\n",
      "  Page Number: 1\n",
      "  Content:\n",
      "- conglobata L70.1 - decalvante L66.2 - especificado NCOC L70.8 - excoriado (de las niñas) L70.5 - frontalis L70.2 - indurada L70.0 - infantil L70.4 - lupoide L70.2 - necrótico, necrótica (miliar) L70.2 - neonatal L70.4 - nodular L70.0 - ocupacional L70.8 - pustuloso L70.0 - queloide L73.0 - quístico L70.0 - rodens L70.2 - rosácea L71.9 - trópica L70.3 - varioliforme L70.2 - vulgaris L70.0 Acnitis (primaria) A18.4 Acodadura, acodamiento - arteria I77.1 - íleon o intestino - véase Obstrucción, intestino - Lane, de - véase Obstrucción, intestino - órgano o localización, congénita NCOC - véase Anomalía, por localización - pelo (adquirida) L67.8 - uréter (unión pélvica) N13.5 - - con - - - hidronefrosis N13.1 - - - - con infección N13.6 - - - pielonefritis (crónica) N11.1 - - congénita Q62.39 - vena (-s) I87.8 - - cava I87.1 - - periférica I87.1 Acolia K82.8 Acolúrica, ictericia (familiar) (esplenomegálica) - véase además Esferocitosis - adquirida D59.8 Acomodación (trastorno) véase además enfermedad específica - espasmo - véase Espasmo, de acomodación - insuficiencia de H52.4 - parálisis histérica de la F44.89 - paresia - véase Paresia, de acomodación Acompañante, hospital NCOC Z76.4 - de una persona enferma Z76.3 - recién nacido, lactante o niño sano Z76.2 - - abandonado Z76.1 Acondrogénesis Q77.0 Acondroplasia (osteoesclerosis congénita) Q77.4 Acosta, enfermedad de T70.29 Acrania Q00.0 Acreciones, diente, dientes K03.6 Ácreta, placenta O43.21Acroangiodermatitis I78.9 Acroasfixia, crónica I73.89 Acrobistitis N47.7 Acrocefalia Q75.0 Acrocefalopolisindactilia Q87.0 Acrocefalosindactilia Q87.0 Acrocianosis I73.89 - recién nacido P28.2 - - cuando significa coloración azulada transitoria de manos y pies - omitir código Acrocondrohiperplasia - véase Síndrome, de Marfan Acrocordón (papiloma cutáneo) (piel hipertrofiada) (infectada) L91.8 - adenoideo J35.8 - amígdala J35.8 - ano K64.4 - centinela K64.4 - hemorroidal K64.4 - himen N89.8 - perineal N90.89 - piel L91.8 - - accesorio (congénito) Q82.8 - - ano K64.4 - - congénito Q82.8 - - preauricular Q17.0 - preauricular Q17.0- uretra, uretral N36.8 - vulva N90.89 Acrodermatitis L30.8 - atrófica (crónica) L90.4 - continua (Hallopeau) L40.2 - enteropática (hereditaria) E83.2 - Hallopeau, de L40.2 - papular infantil L44.4 - perstans L40.2 - pustulosa - - continua L40.2 - - recalcitrante L40.2 Acrodinia - véase Intoxicación, mercurio Acroesfacelo I96 Acrofobia F40.241 Acroma, cutis L80 Acromatismo, acromatopsia (adquirida) (congénita) H53.51 Acromegalia, acromegálico E22.0 Acromelalgia I73.81 Acromia - congénita - véase Albinismo - parasitaria B36.0 Acromicria Q79.8 Acronixia L60.0 Acropaquia, tiroides - véase Tirotoxicosis Acroparestesia (simple) (vasomotora) I73.89 Acropatía, tiroides - véase Tirotoxicosis Acropostitis N47.7 Acroscleriasis, acroscleroderma, acrosclerosis - véase Esclerosis, sistémica Acrospiroma, ecrino - véase Neoplasia, piel, benigna Acrostealgia - véase Osteocondropatía Acrotrofodinia - véase Inmersión ACTH ectópica, síndrome de E24.3 Actínico véase enfermedad específica Actinobacilosis, actinobacillus A28.8 - mallei A24.0 - muris A25.1 Actinomicetoma (pie) B47.1 Actinomicosis, actinomicótico A42.9 - con neumonía A42.0 - abdominal A42.1 - cervicofacial A42.2 - cutáneo A42.89 - gastrointestinal A42.1 - localización especificada NCOC A42.89 - pulmonar A42.0 - sepsis A42.7 Actinomyces israelii (infección) - véase Actinomicosis Actinoneuritis G62.82 Activación - mastocitos (síndrome) (trastorno) D89.40 - - idiopática D89.42 - - monoclonal D89.41 - - secundaria D89.43 - - tipo especificado NCOC D89.41 Activo véase enfermedad específica Acúfenos - véase Tinnitus Aculturación dificultosa Z60.3 Acumulación de secreción, próstata N42.89 Acuoso, humor, desviación de H40.83Acústica véase enfermedad específica Acusticofobia F40.298 Adair-Dighton, síndrome de (huesos frágiles y esclerótica azul, sordera) Q78\n",
      "\n",
      "Document 2:\n",
      "  Page Number: 1\n",
      "  Content:\n",
      ".0 Adamantinoblastoma - véase Ameloblastoma Adamantinoma - véase además Quiste, calcificación odontogénica - huesos largos C40.90 - - miembro inferior C40.2- - - miembro superior C40.0- - maligno C41.1 - - mandíbula (hueso) (parte inferior) C41.1 - - - superior C41.0 - tibial C40.2Adamantoblastoma - véase Ameloblastoma Adams-Stokes (-Morgagni), enfermedad o síndrome de I45.9 Adaptación, reacción de - véase Trastorno, adaptación Addison, de - anemia (perniciosa) D51.0 - enfermedad (bronceada) o síndromeE27.1 - - tuberculoso A18.7 - queloide L94.0 Addison-Biermer, anemia (perniciosa) de D51.0 Addisoniana, crisis E27.2 Addison-Schilder, complejo de E71.528 Adelgazamiento vertebral - véase Espondilopatía, especificada NCOC Adenitis - véase además Linfadenitis - aguda, localización no especificada L04.9 - axilar I88.9 - - aguda L04.2 - - crónica o subaguda I88.1 - Bartolino, glándula de N75.8 - cervical I88.9 - - aguda L04.0 - - crónica o subaguda I88.1 - chancroide (Haemophilus ducreyi) A57 - conducto de Wharton (supurativa) - véase Sialoadenitis - conducto o glándula de Skene - véase Uretritis - Cowper, glándula de - véase Uretritis - crónica, localización no especificada I88.1 - debida a Pasteurella multocida (P. septica) A28.0 - epidémica, aguda B27.09 - escrófula (tuberculosa) A18.2 - estruma, tuberculosa A18.2 - ganglio o nódulo linfático, excepto mesentérico I88.9 - - aguda - véase Linfadenitis, aguda - - crónica o subaguda I88.1 - gangrenosa L04.9 - glándula - - bulbouretral - véase Uretritis - - parótida (supurativa) - véase Sialoadenitis - - salival (cualquiera) (supurativa) - véase Sialoadenitis - - sublingual (supurativa) - véase Sialoadenitis - - submandibular (supurativa) - véase Sialoadenitis - - submaxilar (supurativa) - véase Sialoadenitis - - uretral - véase Uretritis - gonorrea NCOC A54.89 - infecciosa (aguda) (epidémica) B27.09 - inguinal I88.9 - - aguda L04.1 - - crónica o subaguda I88.1 - mesentérica (aguda) (crónica) (no especificada) (subaguda) I88.0 - subaguda, localización no especificada I88.1 - tuberculosa - véase Tuberculosis, ganglio linfático Adenoacantoma - véase Neoplasia, maligna, por localización Adenoameloblastoma - véase Quiste, odontogénico calcificante Adenocarcinoide (tumor) - véase Neoplasia, maligna, por localización Adenocarcinoma - véase además Neoplasia, maligna, por localización - acidófilo - - localización especificada - véase Neoplasia, maligna, por localización - - localización no especificada C75.1 - alveolar - véase Neoplasia, pulmón, maligna - apocrino - - in situ - - - localización especificada NCOC - véase Neoplasia, piel, in situ - - - localización no especificada D04.9 - - - mama D05.8- - - localización especificada NCOC - véase Neoplasia, piel, maligna - - localización no especificada C44.99 - - mama - véase Neoplasia, mama, maligna - basófilo - - localización especificada - véase Neoplasia, maligna, por localización - - localización no especificada C75.110Índice EnfermedadesÍNDICE ALFABÉTICO DE ENFERMEDADES Acné\n"
     ]
    }
   ],
   "source": [
    "import PyPDF2\n",
    "\n",
    "with open(pdf, 'rb') as f:\n",
    "    pdf_bytes = BytesIO(f.read())\n",
    "\n",
    "cleaned_texts, filename = parse_pdf(pdf_bytes, pdf)\n",
    "\n",
    "documents = text_to_docs(cleaned_texts, filename)\n",
    "\n",
    "print(f\"\\nCreated Documents from '{filename}':\")\n",
    "for i, doc in enumerate(documents, start=1):\n",
    "    print(f\"\\nDocument {i}:\")\n",
    "    print(f\"  Page Number: {doc.metadata['page']}\")\n",
    "    print(f\"  Content:\\n{doc.page_content}\")  # Assuming Document has a page_content attribute"
   ]
  },
  {
   "cell_type": "code",
   "execution_count": 8,
   "metadata": {},
   "outputs": [
    {
     "name": "stdout",
     "output_type": "stream",
     "text": [
      "Search index created!\n"
     ]
    }
   ],
   "source": [
    "index = docs_to_index(documents, openai_api_key=openai_api_key)\n",
    "\n",
    "print(\"Search index created!\")"
   ]
  },
  {
   "cell_type": "code",
   "execution_count": 9,
   "metadata": {},
   "outputs": [],
   "source": [
    "index.save_local(folder_path=\"/teamspace/studios/this_studio/Curso_IA_Gen/Formularios\", index_name=\"myFaissIndex\")"
   ]
  },
  {
   "cell_type": "code",
   "execution_count": 10,
   "metadata": {},
   "outputs": [],
   "source": [
    "embeddings = OpenAIEmbeddings(openai_api_key=openai_api_key)"
   ]
  },
  {
   "cell_type": "code",
   "execution_count": 11,
   "metadata": {},
   "outputs": [],
   "source": [
    "db = FAISS.load_local(folder_path=\"/teamspace/studios/this_studio/Curso_IA_Gen/Formularios\",embeddings=embeddings,index_name=\"myFaissIndex\",allow_dangerous_deserialization=True)"
   ]
  },
  {
   "cell_type": "code",
   "execution_count": null,
   "metadata": {},
   "outputs": [],
   "source": []
  }
 ],
 "metadata": {
  "kernelspec": {
   "display_name": "cloudspace",
   "language": "python",
   "name": "python3"
  },
  "language_info": {
   "codemirror_mode": {
    "name": "ipython",
    "version": 3
   },
   "file_extension": ".py",
   "mimetype": "text/x-python",
   "name": "python",
   "nbconvert_exporter": "python",
   "pygments_lexer": "ipython3",
   "version": "3.10.10"
  }
 },
 "nbformat": 4,
 "nbformat_minor": 2
}
